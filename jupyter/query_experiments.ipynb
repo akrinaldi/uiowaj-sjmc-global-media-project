{
 "cells": [
  {
   "cell_type": "code",
   "execution_count": 1,
   "metadata": {},
   "outputs": [],
   "source": [
    "import requests\n",
    "\n",
    "from elsapy.elsclient import ElsClient\n",
    "from elsapy.elsprofile import ElsAuthor, ElsAffil\n",
    "from elsapy.elsdoc import FullDoc, AbsDoc\n",
    "from elsapy.elssearch import ElsSearch\n",
    "import json"
   ]
  },
  {
   "cell_type": "code",
   "execution_count": 2,
   "metadata": {},
   "outputs": [],
   "source": [
    "response = requests.get(\"https://api.elsevier.com/content/search/scopus?query=17413001&count=25&date=2020\",\n",
    "                       headers={'Accept':'application/json',\n",
    "                             'X-ELS-APIKey': '2ab6ef4d0f730c1ad6935cab93c1aade'})"
   ]
  },
  {
   "cell_type": "code",
   "execution_count": 3,
   "metadata": {},
   "outputs": [
    {
     "name": "stdout",
     "output_type": "stream",
     "text": [
      "200\n"
     ]
    }
   ],
   "source": [
    "print(response.status_code)"
   ]
  },
  {
   "cell_type": "code",
   "execution_count": 4,
   "metadata": {},
   "outputs": [],
   "source": [
    "issns = ['21670811','2167082X',\n",
    "         '10836101','14614448','14617315',\n",
    "         '10917675','10584609','14684462',\n",
    "         '1369118X','14602466','00219916',\n",
    "         '03603989','14682958','00913367',\n",
    "         '15577805','10503293','14682885']"
   ]
  },
  {
   "cell_type": "code",
   "execution_count": 5,
   "metadata": {},
   "outputs": [
    {
     "data": {
      "text/plain": [
       "'https://api.elsevier.com/content/search/scopus?&query=17413001&count=25&date=2020&apiKey=b917f6a4ed70aeeb6e94a6cd5c1dee72&httpAccept=application/json'"
      ]
     },
     "execution_count": 5,
     "metadata": {},
     "output_type": "execute_result"
    }
   ],
   "source": [
    "'https://api.elsevier.com/content/search/scopus?&query=17413001&count=25&date=2020&apiKey=b917f6a4ed70aeeb6e94a6cd5c1dee72&httpAccept=application/json'"
   ]
  },
  {
   "cell_type": "code",
   "execution_count": null,
   "metadata": {},
   "outputs": [],
   "source": []
  }
 ],
 "metadata": {
  "kernelspec": {
   "display_name": "Python 3",
   "language": "python",
   "name": "python3"
  },
  "language_info": {
   "codemirror_mode": {
    "name": "ipython",
    "version": 3
   },
   "file_extension": ".py",
   "mimetype": "text/x-python",
   "name": "python",
   "nbconvert_exporter": "python",
   "pygments_lexer": "ipython3",
   "version": "3.7.4"
  }
 },
 "nbformat": 4,
 "nbformat_minor": 2
}
